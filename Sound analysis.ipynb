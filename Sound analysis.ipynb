{
 "cells": [
  {
   "cell_type": "code",
   "execution_count": 1,
   "metadata": {},
   "outputs": [
    {
     "name": "stdout",
     "output_type": "stream",
     "text": [
      "Requirement already satisfied: pydub in c:\\users\\zhen\\anaconda3\\lib\\site-packages (0.25.1)\n",
      "Note: you may need to restart the kernel to use updated packages.\n"
     ]
    },
    {
     "name": "stderr",
     "output_type": "stream",
     "text": [
      "WARNING: Ignoring invalid distribution -rotobuf (c:\\users\\zhen\\anaconda3\\lib\\site-packages)\n",
      "WARNING: Ignoring invalid distribution -rotobuf (c:\\users\\zhen\\anaconda3\\lib\\site-packages)\n",
      "WARNING: Ignoring invalid distribution -rotobuf (c:\\users\\zhen\\anaconda3\\lib\\site-packages)\n",
      "WARNING: Ignoring invalid distribution -rotobuf (c:\\users\\zhen\\anaconda3\\lib\\site-packages)\n",
      "WARNING: Ignoring invalid distribution -rotobuf (c:\\users\\zhen\\anaconda3\\lib\\site-packages)\n",
      "WARNING: Ignoring invalid distribution -rotobuf (c:\\users\\zhen\\anaconda3\\lib\\site-packages)\n"
     ]
    }
   ],
   "source": [
    "pip install pydub"
   ]
  },
  {
   "cell_type": "code",
   "execution_count": 2,
   "metadata": {},
   "outputs": [
    {
     "name": "stdout",
     "output_type": "stream",
     "text": [
      "Analyzing Al Looseness at 951-968 RPM.mp3...\n",
      "Plot saved as Plots/Sound_full\\Al Looseness at 951-968 RPM_spectrum.png\n",
      "Analyzing Al Quickly Increasing RPM.mp3...\n",
      "Plot saved as Plots/Sound_full\\Al Quickly Increasing RPM_spectrum.png\n",
      "Analyzing Al Slowly Increasing RPM.mp3...\n",
      "Plot saved as Plots/Sound_full\\Al Slowly Increasing RPM_spectrum.png\n",
      "Analyzing al sounds_.mp3...\n",
      "Plot saved as Plots/Sound_full\\al sounds__spectrum.png\n"
     ]
    }
   ],
   "source": [
    "import os\n",
    "import numpy as np\n",
    "from pydub import AudioSegment\n",
    "from scipy.fft import fft, fftfreq\n",
    "import matplotlib.pyplot as plt\n",
    "\n",
    "def read_mp3(file_path):\n",
    "    \"\"\"Read an MP3 file and convert it to a numpy array of samples.\"\"\"\n",
    "    audio = AudioSegment.from_mp3(file_path)\n",
    "    # Convert stereo to mono by averaging left and right channels\n",
    "    if audio.channels == 2:\n",
    "        audio = audio.set_channels(1)\n",
    "    samples = np.array(audio.get_array_of_samples())\n",
    "    return samples, audio.frame_rate\n",
    "\n",
    "def perform_fft(samples, sample_rate):\n",
    "    \"\"\"Perform FFT on samples and return frequencies and their amplitudes.\"\"\"\n",
    "    n = len(samples)\n",
    "    yf = fft(samples)\n",
    "    xf = fftfreq(n, 1 / sample_rate)\n",
    "    return xf[:n//2], np.abs(yf[:n//2])\n",
    "\n",
    "def plot_spectrum(frequencies, amplitudes, file_name, plot_directory):\n",
    "    \"\"\"Plot the amplitude spectrum of the frequencies.\"\"\"\n",
    "    plt.figure(figsize=(10, 5))\n",
    "    plt.plot(frequencies, amplitudes)\n",
    "    plt.title(f'Spectrum of {file_name}')\n",
    "    plt.xlabel('Frequency (Hz)')\n",
    "    plt.ylabel('Amplitude')\n",
    "    plt.grid(True)\n",
    "    plt.xlim(0, frequencies[-1])  # Adjust this as needed\n",
    "    # plt.ylim(0, np.max(amplitudes)/1e5)\n",
    "    plot_path = os.path.join(plot_directory, f\"{file_name}_spectrum.png\")\n",
    "    plt.savefig(plot_path)\n",
    "    plt.close()\n",
    "    print(f\"Plot saved as {plot_path}\")\n",
    "\n",
    "def analyze_directory(directory, plot_directory):\n",
    "    \"\"\"Analyze all MP3 files in the directory and generate plots.\"\"\"\n",
    "    # Create plot directory if it doesn't exist\n",
    "    os.makedirs(plot_directory, exist_ok=True)\n",
    "    for file in os.listdir(directory):\n",
    "        if file.endswith('.mp3'):\n",
    "            file_path = os.path.join(directory, file)\n",
    "            print(f\"Analyzing {file}...\")\n",
    "            samples, sample_rate = read_mp3(file_path)\n",
    "            freqs, amplitudes = perform_fft(samples, sample_rate)\n",
    "            plot_spectrum(freqs, amplitudes, file[:-4], plot_directory)\n",
    "\n",
    "# Define directories\n",
    "sound_directory = 'Sound'\n",
    "plot_directory = 'Plots/Sound_full'\n",
    "\n",
    "# Run the analysis on the 'Sound' directory\n",
    "analyze_directory(sound_directory, plot_directory)\n"
   ]
  },
  {
   "cell_type": "code",
   "execution_count": 3,
   "metadata": {},
   "outputs": [
    {
     "ename": "PermissionError",
     "evalue": "[Errno 13] Permission denied: 'Sound2'",
     "output_type": "error",
     "traceback": [
      "\u001b[1;31m---------------------------------------------------------------------------\u001b[0m",
      "\u001b[1;31mPermissionError\u001b[0m                           Traceback (most recent call last)",
      "Cell \u001b[1;32mIn[3], line 64\u001b[0m\n\u001b[0;32m     61\u001b[0m plot_directory \u001b[38;5;241m=\u001b[39m \u001b[38;5;124m'\u001b[39m\u001b[38;5;124mPlots/Sound\u001b[39m\u001b[38;5;124m'\u001b[39m\n\u001b[0;32m     63\u001b[0m os\u001b[38;5;241m.\u001b[39mmakedirs(plot_directory, exist_ok\u001b[38;5;241m=\u001b[39m\u001b[38;5;28;01mTrue\u001b[39;00m)\n\u001b[1;32m---> 64\u001b[0m \u001b[43manalyze_audio\u001b[49m\u001b[43m(\u001b[49m\u001b[43msound_directory\u001b[49m\u001b[43m,\u001b[49m\u001b[43m \u001b[49m\u001b[43mplot_directory\u001b[49m\u001b[43m)\u001b[49m\n",
      "Cell \u001b[1;32mIn[3], line 41\u001b[0m, in \u001b[0;36manalyze_audio\u001b[1;34m(file_path, plot_directory, initial_seconds)\u001b[0m\n\u001b[0;32m     39\u001b[0m \u001b[38;5;250m\u001b[39m\u001b[38;5;124;03m\"\"\"Analyze FFT of first few seconds and subtract from the whole file.\"\"\"\u001b[39;00m\n\u001b[0;32m     40\u001b[0m \u001b[38;5;66;03m# Read full audio\u001b[39;00m\n\u001b[1;32m---> 41\u001b[0m full_samples, sample_rate \u001b[38;5;241m=\u001b[39m \u001b[43mread_mp3\u001b[49m\u001b[43m(\u001b[49m\u001b[43mfile_path\u001b[49m\u001b[43m)\u001b[49m\n\u001b[0;32m     42\u001b[0m full_freqs, full_amplitudes \u001b[38;5;241m=\u001b[39m perform_fft(full_samples, sample_rate)\n\u001b[0;32m     44\u001b[0m \u001b[38;5;66;03m# Read initial segment\u001b[39;00m\n",
      "Cell \u001b[1;32mIn[3], line 9\u001b[0m, in \u001b[0;36mread_mp3\u001b[1;34m(file_path, duration)\u001b[0m\n\u001b[0;32m      7\u001b[0m \u001b[38;5;28;01mdef\u001b[39;00m \u001b[38;5;21mread_mp3\u001b[39m(file_path, duration\u001b[38;5;241m=\u001b[39m\u001b[38;5;28;01mNone\u001b[39;00m):\n\u001b[0;32m      8\u001b[0m \u001b[38;5;250m    \u001b[39m\u001b[38;5;124;03m\"\"\"Read an MP3 file and optionally a specified duration from the start.\"\"\"\u001b[39;00m\n\u001b[1;32m----> 9\u001b[0m     audio \u001b[38;5;241m=\u001b[39m \u001b[43mAudioSegment\u001b[49m\u001b[38;5;241;43m.\u001b[39;49m\u001b[43mfrom_mp3\u001b[49m\u001b[43m(\u001b[49m\u001b[43mfile_path\u001b[49m\u001b[43m)\u001b[49m\n\u001b[0;32m     10\u001b[0m     \u001b[38;5;28;01mif\u001b[39;00m duration:\n\u001b[0;32m     11\u001b[0m         audio \u001b[38;5;241m=\u001b[39m audio[:duration \u001b[38;5;241m*\u001b[39m \u001b[38;5;241m1000\u001b[39m]  \u001b[38;5;66;03m# duration in milliseconds\u001b[39;00m\n",
      "File \u001b[1;32mc:\\Users\\Zhen\\anaconda3\\lib\\site-packages\\pydub\\audio_segment.py:796\u001b[0m, in \u001b[0;36mAudioSegment.from_mp3\u001b[1;34m(cls, file, parameters)\u001b[0m\n\u001b[0;32m    794\u001b[0m \u001b[38;5;129m@classmethod\u001b[39m\n\u001b[0;32m    795\u001b[0m \u001b[38;5;28;01mdef\u001b[39;00m \u001b[38;5;21mfrom_mp3\u001b[39m(\u001b[38;5;28mcls\u001b[39m, file, parameters\u001b[38;5;241m=\u001b[39m\u001b[38;5;28;01mNone\u001b[39;00m):\n\u001b[1;32m--> 796\u001b[0m     \u001b[38;5;28;01mreturn\u001b[39;00m \u001b[38;5;28;43mcls\u001b[39;49m\u001b[38;5;241;43m.\u001b[39;49m\u001b[43mfrom_file\u001b[49m\u001b[43m(\u001b[49m\u001b[43mfile\u001b[49m\u001b[43m,\u001b[49m\u001b[43m \u001b[49m\u001b[38;5;124;43m'\u001b[39;49m\u001b[38;5;124;43mmp3\u001b[39;49m\u001b[38;5;124;43m'\u001b[39;49m\u001b[43m,\u001b[49m\u001b[43m \u001b[49m\u001b[43mparameters\u001b[49m\u001b[38;5;241;43m=\u001b[39;49m\u001b[43mparameters\u001b[49m\u001b[43m)\u001b[49m\n",
      "File \u001b[1;32mc:\\Users\\Zhen\\anaconda3\\lib\\site-packages\\pydub\\audio_segment.py:651\u001b[0m, in \u001b[0;36mAudioSegment.from_file\u001b[1;34m(cls, file, format, codec, parameters, start_second, duration, **kwargs)\u001b[0m\n\u001b[0;32m    649\u001b[0m \u001b[38;5;28;01mexcept\u001b[39;00m \u001b[38;5;167;01mTypeError\u001b[39;00m:\n\u001b[0;32m    650\u001b[0m     filename \u001b[38;5;241m=\u001b[39m \u001b[38;5;28;01mNone\u001b[39;00m\n\u001b[1;32m--> 651\u001b[0m file, close_file \u001b[38;5;241m=\u001b[39m \u001b[43m_fd_or_path_or_tempfile\u001b[49m\u001b[43m(\u001b[49m\u001b[43mfile\u001b[49m\u001b[43m,\u001b[49m\u001b[43m \u001b[49m\u001b[38;5;124;43m'\u001b[39;49m\u001b[38;5;124;43mrb\u001b[39;49m\u001b[38;5;124;43m'\u001b[39;49m\u001b[43m,\u001b[49m\u001b[43m \u001b[49m\u001b[43mtempfile\u001b[49m\u001b[38;5;241;43m=\u001b[39;49m\u001b[38;5;28;43;01mFalse\u001b[39;49;00m\u001b[43m)\u001b[49m\n\u001b[0;32m    653\u001b[0m \u001b[38;5;28;01mif\u001b[39;00m \u001b[38;5;28mformat\u001b[39m:\n\u001b[0;32m    654\u001b[0m     \u001b[38;5;28mformat\u001b[39m \u001b[38;5;241m=\u001b[39m \u001b[38;5;28mformat\u001b[39m\u001b[38;5;241m.\u001b[39mlower()\n",
      "File \u001b[1;32mc:\\Users\\Zhen\\anaconda3\\lib\\site-packages\\pydub\\utils.py:60\u001b[0m, in \u001b[0;36m_fd_or_path_or_tempfile\u001b[1;34m(fd, mode, tempfile)\u001b[0m\n\u001b[0;32m     57\u001b[0m     close_fd \u001b[38;5;241m=\u001b[39m \u001b[38;5;28;01mTrue\u001b[39;00m\n\u001b[0;32m     59\u001b[0m \u001b[38;5;28;01mif\u001b[39;00m \u001b[38;5;28misinstance\u001b[39m(fd, basestring):\n\u001b[1;32m---> 60\u001b[0m     fd \u001b[38;5;241m=\u001b[39m \u001b[38;5;28;43mopen\u001b[39;49m\u001b[43m(\u001b[49m\u001b[43mfd\u001b[49m\u001b[43m,\u001b[49m\u001b[43m \u001b[49m\u001b[43mmode\u001b[49m\u001b[38;5;241;43m=\u001b[39;49m\u001b[43mmode\u001b[49m\u001b[43m)\u001b[49m\n\u001b[0;32m     61\u001b[0m     close_fd \u001b[38;5;241m=\u001b[39m \u001b[38;5;28;01mTrue\u001b[39;00m\n\u001b[0;32m     63\u001b[0m \u001b[38;5;28;01mtry\u001b[39;00m:\n",
      "\u001b[1;31mPermissionError\u001b[0m: [Errno 13] Permission denied: 'Sound2'"
     ]
    }
   ],
   "source": [
    "import os\n",
    "import numpy as np\n",
    "from pydub import AudioSegment\n",
    "from scipy.fft import fft, fftfreq\n",
    "import matplotlib.pyplot as plt\n",
    "\n",
    "def read_mp3(file_path, duration=None):\n",
    "    \"\"\"Read an MP3 file and optionally a specified duration from the start.\"\"\"\n",
    "    audio = AudioSegment.from_mp3(file_path)\n",
    "    if duration:\n",
    "        audio = audio[:duration * 1000]  # duration in milliseconds\n",
    "    # Convert stereo to mono\n",
    "    if audio.channels == 2:\n",
    "        audio = audio.set_channels(1)\n",
    "    samples = np.array(audio.get_array_of_samples())\n",
    "    return samples, audio.frame_rate\n",
    "\n",
    "def perform_fft(samples, sample_rate):\n",
    "    \"\"\"Perform FFT on samples and return frequencies and their amplitudes.\"\"\"\n",
    "    n = len(samples)\n",
    "    yf = fft(samples)\n",
    "    xf = fftfreq(n, 1 / sample_rate)\n",
    "    return xf[:n//2], np.abs(yf[:n//2])\n",
    "\n",
    "def plot_spectrum(frequencies, amplitudes, title, plot_path):\n",
    "    \"\"\"Plot the amplitude spectrum of the frequencies.\"\"\"\n",
    "    plt.figure(figsize=(10, 5))\n",
    "    plt.plot(frequencies, amplitudes)\n",
    "    plt.title(title)\n",
    "    plt.xlabel('Frequency (Hz)')\n",
    "    plt.ylabel('Amplitude')\n",
    "    plt.grid(True)\n",
    "    plt.xlim(0, frequencies[-1])\n",
    "    plt.savefig(plot_path)\n",
    "    plt.close()\n",
    "    print(f\"Plot saved as {plot_path}\")\n",
    "\n",
    "def analyze_audio(file_path, plot_directory, initial_seconds=5):\n",
    "    \"\"\"Analyze FFT of first few seconds and subtract from the whole file.\"\"\"\n",
    "    # Read full audio\n",
    "    full_samples, sample_rate = read_mp3(file_path)\n",
    "    full_freqs, full_amplitudes = perform_fft(full_samples, sample_rate)\n",
    "\n",
    "    # Read initial segment\n",
    "    init_samples, _ = redirect(file_path, duration=initial_seconds)\n",
    "    init_freqs, init_amplitudes = perform(game(init_samples, sample_rate))\n",
    "\n",
    "    # Compute difference in amplitudes\n",
    "    # Assuming both frequency arrays are the same (since sample rate is unchanged)\n",
    "    diff_amplitudes = full_amplitudes - init_amplitudes\n",
    "\n",
    "    # Plotting\n",
    "    base_filename = os.path.splitext(os.path.basename(file_path))[0]\n",
    "    plot_spectrum(full_freqs, full_amplitudes, f'Full Spectrum of {base_filename}', os.path.join(plot_directory, f\"{base_filename}_full_spectrum.png\"))\n",
    "    plot_spectrum(init_freqs, init_amplitudes, f'Initial {initial_seconds} Seconds Spectrum of {base_filename}', os.path.join(plot_directory, f\"{base_filename}_initial_spectrum.png\"))\n",
    "    plot_spectrum(full_freqs, difficult_amplitudes, f'Difference Spectrum of {base_filename}', os.path.join(plot_directory, f\"{base_filename}_diff_spectrum.png\"))\n",
    "\n",
    "# Usage example\n",
    "# Define directories\n",
    "sound_directory = 'Sound2'\n",
    "plot_directory = 'Plots/Sound'\n",
    "\n",
    "os.makedirs(plot_directory, exist_ok=True)\n",
    "analyze_audio(sound_directory, plot_directory)\n"
   ]
  }
 ],
 "metadata": {
  "kernelspec": {
   "display_name": "Anaconda (base)",
   "language": "python",
   "name": "anaconda-base"
  },
  "language_info": {
   "codemirror_mode": {
    "name": "ipython",
    "version": 3
   },
   "file_extension": ".py",
   "mimetype": "text/x-python",
   "name": "python",
   "nbconvert_exporter": "python",
   "pygments_lexer": "ipython3",
   "version": "3.10.9"
  }
 },
 "nbformat": 4,
 "nbformat_minor": 2
}
