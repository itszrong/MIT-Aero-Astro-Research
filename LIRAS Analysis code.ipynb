{
 "cells": [
  {
   "cell_type": "code",
   "execution_count": 1,
   "metadata": {},
   "outputs": [],
   "source": [
    "import numpy as np\n",
    "import pandas as pd\n",
    "import matplotlib.pyplot as plt\n",
    "from scipy.signal import find_peaks\n",
    "from scipy.fft import fft\n",
    "from scipy.optimize import curve_fit\n",
    "import os\n",
    "\n",
    "data = pd.read_csv('Front_Back_E_C_Damp.csv')"
   ]
  },
  {
   "cell_type": "code",
   "execution_count": null,
   "metadata": {},
   "outputs": [],
   "source": [
    "data['k'] = 1/(4*data['Height (m)'])"
   ]
  },
  {
   "cell_type": "code",
   "execution_count": null,
   "metadata": {},
   "outputs": [],
   "source": [
    "samples_list = ['A', 'B', 'C']\n",
    "no_of_samples = 4\n",
    "which_bool = 'Front'\n",
    "\n",
    "for i in range(len(samples_list)):\n",
    "    start_index = 4 * (i)\n",
    "    end_index = 4 * (i+1)\n",
    "    \n",
    "    x = data['k'].iloc[start_index:end_index]\n",
    "    y = data['Natural Frequency '+which_bool+' (kHz)'].iloc[start_index:end_index]\n",
    "    coefficients = np.polyfit(x, y, 1) \n",
    "    trendline = np.poly1d(coefficients)\n",
    "    r_squared = np.corrcoef(x, y)[0, 1]**2\n",
    "    plt.plot(np.linspace(0, 100), trendline(np.linspace(0, 100)), 'g--', label=f'Extended Line of Best Fit, $R^2={r_squared:.2f}$')\n",
    "\n",
    "    plt.scatter(x, y, color='blue')\n",
    "\n",
    "    \n",
    "    plt.scatter(x, y)\n",
    "    plt.title('Frequency against k for '+samples_list[i]+' ('+which_bool+')')\n",
    "    plt.xlabel('k = 1/4H (m)')\n",
    "    plt.ylabel('Frequency (kHz)')\n",
    "    plt.ylim([0, 45])\n",
    "    plt.xlim([0, 30])\n",
    "    plt.legend()\n",
    "    plt.savefig('Frequency against k for '+samples_list[i]+' ('+which_bool+')'+'.png')\n",
    "    plt.show()"
   ]
  },
  {
   "cell_type": "code",
   "execution_count": null,
   "metadata": {},
   "outputs": [],
   "source": [
    "data_averaged = data.copy(deep=True)\n",
    "group_index = data_averaged.index // 4\n",
    "data_averaged = data_averaged.drop(columns=data_averaged.columns[0])\n",
    "\n",
    "# Calculate the average of each group for every column\n",
    "data_averaged = data_averaged.groupby(group_index).mean()\n",
    "lattice_types = data['Lattice'].iloc[::4].apply(lambda x: x[0])\n",
    "\n",
    "# Assign these types to the averaged DataFrame\n",
    "data_averaged['Lattice Type'] = lattice_types.values\n",
    "cols = ['Lattice Type'] + [col for col in data_averaged if col != 'Lattice Type']\n",
    "data_averaged = data_averaged[cols]\n",
    "data_averaged"
   ]
  },
  {
   "cell_type": "code",
   "execution_count": null,
   "metadata": {},
   "outputs": [],
   "source": [
    "for i, column in enumerate(data_averaged.columns):\n",
    "    if column not in ['Unit Cell Size (mm)', 'Natural Frequency Front (kHz)', 'Height (m)', 'Relative Density', 'Natural Frequency Back (kHz)', 'Lattice Type', 'k']:\n",
    "        \n",
    "        x = data_averaged['Unit Cell Size (mm)']\n",
    "        y = data_averaged[column]\n",
    "        coefficients = np.polyfit(x, y, 1) \n",
    "        trendline = np.poly1d(coefficients)\n",
    "        r_squared = np.corrcoef(x, y)[0, 1]**2\n",
    "        plt.plot(np.linspace(0, 100), trendline(np.linspace(0, 100)), 'g--', label=f'Extended Line of Best Fit, $R^2={r_squared:.2f}$')\n",
    "        \n",
    "        plt.scatter(x, y)\n",
    "        plt.title(f'{column} vs Unit Cell Size (mm)')\n",
    "        plt.xlabel('Unit Cell Size (mm)')\n",
    "        plt.ylabel(column)\n",
    "        padding = 0.5\n",
    "        padding_x = (x.max() - x.min()) * padding  # 5% padding\n",
    "        padding_y = (y.max() - y.min()) * padding  # 5% padding\n",
    "        plt.xlim([x.min() - padding_x, x.max() + padding_x])\n",
    "        plt.ylim([y.min() - padding_y, y.max() + padding_y])\n",
    "        plt.legend()\n",
    "        safe_column_name = column.replace('/', ' per ').replace(' ', '_').replace('(', '').replace(')', '')\n",
    "        plt.savefig(f'{safe_column_name} vs Unit Cell Size.png')\n",
    "        plt.show()"
   ]
  }
 ],
 "metadata": {
  "kernelspec": {
   "display_name": "Anaconda (base)",
   "language": "python",
   "name": "anaconda-base"
  },
  "language_info": {
   "codemirror_mode": {
    "name": "ipython",
    "version": 3
   },
   "file_extension": ".py",
   "mimetype": "text/x-python",
   "name": "python",
   "nbconvert_exporter": "python",
   "pygments_lexer": "ipython3",
   "version": "3.10.9"
  }
 },
 "nbformat": 4,
 "nbformat_minor": 2
}
